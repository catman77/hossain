{
 "cells": [
  {
   "cell_type": "code",
   "execution_count": 1,
   "metadata": {},
   "outputs": [
    {
     "name": "stdout",
     "output_type": "stream",
     "text": [
      "{'leverage': 5, 'bot_name': 'eagle_eye', 'dry_run': False, 'timeframe': '5m', 'max_open_trades': 3, 'available_capital': 10, 'stake_amount': 'unlimited', 'tradable_balance_ratio': 0.9, 'dry_run_wallet': 100, 'recursive_strategy_search': True, 'disable_dataframe_checks': False, 'can_short': True, 'reduce_df_footprint': False, 'cancel_open_orders_on_exit': True, 'use_exit_signal': True, 'process_only_new_candles': False, 'position_adjustment_enable': False, 'force_entry_enable': True, 'amend_last_stake_amount': True, 'fee': 0.0015, 'futures_funding_rate': 0.001, 'exit_profit_only': False, 'ignore_buying_expired_candle_after': 300, 'db_url': 'sqlite:///user_data/freqtrade.sqlite', 'fiat_display_currency': 'USD', 'stake_currency': 'USDT', 'initial_state': 'running', 'dataformat_ohlcv': 'json', 'dataformat_trades': 'json', 'trading_mode': <TradingMode.FUTURES: 'futures'>, 'margin_mode': 'isolated', 'entry_pricing': {'price_side': 'same', 'use_order_book': True, 'order_book_top': 1, 'price_last_balance': 0.0, 'check_depth_of_market': {'enabled': True, 'bids_to_ask_delta': 1}}, 'exit_pricing': {'price_side': 'same', 'use_order_book': True, 'order_book_top': 1, 'price_last_balance': 0.0}, 'unfilledtimeout': {'entry': 15, 'exit': 15, 'exit_timeout_count': 3, 'unit': 'minutes'}, 'order_types': {'entry': 'limit', 'exit': 'limit', 'emergency_exit': 'market', 'force_exit': 'market', 'force_entry': 'market', 'stoploss': 'market', 'stoploss_on_exchange': False, 'stoploss_price_type': 'last', 'stoploss_on_exchange_interval': 60, 'stoploss_on_exchange_limit_ratio': 0.99}, 'order_time_in_force': {'entry': 'GTC', 'exit': 'GTC'}, 'exchange': {'name': 'bybit', 'key': 'C7D71AD39C9248099CA9CB2FFF185EF1', 'secret': 'F9AAF607A05B454A6D1B1F42B53972F516931C5C5EB6ADC0', 'markets_refresh_interval': 30, 'log_responses': False, 'unknown_fee_rate': 0.001, 'pair_whitelist': ['KAVA/USDT:USDT']}, 'pairlists': [{'method': 'StaticPairList'}], 'edge': {'enabled': False, 'process_throttle_secs': 3600, 'calculate_since_number_of_days': 7, 'allowed_risk': 0.01, 'stoploss_range_min': -0.01, 'stoploss_range_max': -0.1, 'stoploss_range_step': -0.01, 'minimum_winrate': 0.6, 'minimum_expectancy': 0.2, 'min_trade_number': 10, 'max_trade_duration_minute': 1440, 'remove_pumps': False}, 'telegram': {'enabled': False, 'token': '6976841673:AAFQN0aSl7iUd26oOytXh0WsKydBU20M2WM', 'chat_id': '5514429070', 'allow_custom_messages': True, 'notification_settings': {'status': 'on', 'warning': 'on', 'startup': 'on', 'entry': 'on', 'entry_fill': 'on', 'exit': {'roi': 'on', 'emergency_exit': 'on', 'force_exit': 'on', 'exit_signal': 'on', 'trailing_stop_loss': 'on', 'stop_loss': 'on', 'stoploss_on_exchange': 'on', 'custom_exit': 'on'}, 'exit_fill': 'on', 'entry_cancel': 'on', 'exit_cancel': 'on', 'protection_trigger': 'off', 'protection_trigger_global': 'on', 'show_candle': 'off'}, 'reload': True}, 'api_server': {'enabled': True, 'listen_ip_address': '127.0.0.1', 'listen_port': 8080, 'verbosity': 'error', 'enable_openapi': True, 'jwt_secret_key': '95ee043b07757de739cacb5efffd52089f9a5959f1375b2375128263b6f76432', 'ws_token': '6PY_SjxK-LK-NP1bkg3IYIxA7dnrkBOnlA', 'CORS_origins': [], 'username': 'mupol313', 'password': 'Yamaha.123'}, 'internals': {'process_throttle_secs': 5, 'heartbeat_interval': 10, 'sd_notify': True}, 'config_files': ['c:\\\\bager\\\\user_data\\\\config.json'], 'original_config': {'leverage': 5, 'bot_name': 'eagle_eye', 'dry_run': False, 'timeframe': '5m', 'max_open_trades': 3, 'available_capital': 10, 'stake_amount': 'unlimited', 'tradable_balance_ratio': 0.9, 'dry_run_wallet': 100, 'recursive_strategy_search': True, 'disable_dataframe_checks': False, 'can_short': True, 'reduce_df_footprint': False, 'cancel_open_orders_on_exit': True, 'use_exit_signal': True, 'process_only_new_candles': False, 'position_adjustment_enable': False, 'force_entry_enable': True, 'amend_last_stake_amount': True, 'fee': 0.0015, 'futures_funding_rate': 0.001, 'exit_profit_only': False, 'ignore_buying_expired_candle_after': 300, 'db_url': 'sqlite:///user_data/freqtrade.sqlite', 'fiat_display_currency': 'USD', 'stake_currency': 'USDT', 'initial_state': 'running', 'dataformat_ohlcv': 'json', 'dataformat_trades': 'json', 'trading_mode': 'futures', 'margin_mode': 'isolated', 'entry_pricing': {'price_side': 'same', 'use_order_book': True, 'order_book_top': 1, 'price_last_balance': 0.0, 'check_depth_of_market': {'enabled': True, 'bids_to_ask_delta': 1}}, 'exit_pricing': {'price_side': 'same', 'use_order_book': True, 'order_book_top': 1, 'price_last_balance': 0.0}, 'unfilledtimeout': {'entry': 15, 'exit': 15, 'exit_timeout_count': 3, 'unit': 'minutes'}, 'order_types': {'entry': 'limit', 'exit': 'limit', 'emergency_exit': 'market', 'force_exit': 'market', 'force_entry': 'market', 'stoploss': 'market', 'stoploss_on_exchange': False, 'stoploss_price_type': 'last', 'stoploss_on_exchange_interval': 60, 'stoploss_on_exchange_limit_ratio': 0.99}, 'order_time_in_force': {'entry': 'GTC', 'exit': 'GTC'}, 'exchange': {'name': 'bybit', 'key': 'C7D71AD39C9248099CA9CB2FFF185EF1', 'secret': 'F9AAF607A05B454A6D1B1F42B53972F516931C5C5EB6ADC0', 'markets_refresh_interval': 30, 'log_responses': False, 'unknown_fee_rate': 0.001, 'pair_whitelist': ['KAVA/USDT:USDT']}, 'pairlists': [{'method': 'StaticPairList'}], 'edge': {'enabled': False, 'process_throttle_secs': 3600, 'calculate_since_number_of_days': 7, 'allowed_risk': 0.01, 'stoploss_range_min': -0.01, 'stoploss_range_max': -0.1, 'stoploss_range_step': -0.01, 'minimum_winrate': 0.6, 'minimum_expectancy': 0.2, 'min_trade_number': 10, 'max_trade_duration_minute': 1440, 'remove_pumps': False}, 'telegram': {'enabled': False, 'token': '6976841673:AAFQN0aSl7iUd26oOytXh0WsKydBU20M2WM', 'chat_id': '5514429070', 'allow_custom_messages': True, 'notification_settings': {'status': 'on', 'warning': 'on', 'startup': 'on', 'entry': 'on', 'entry_fill': 'on', 'exit': {'roi': 'on', 'emergency_exit': 'on', 'force_exit': 'on', 'exit_signal': 'on', 'trailing_stop_loss': 'on', 'stop_loss': 'on', 'stoploss_on_exchange': 'on', 'custom_exit': 'on'}, 'exit_fill': 'on', 'entry_cancel': 'on', 'exit_cancel': 'on', 'protection_trigger': 'off', 'protection_trigger_global': 'on', 'show_candle': 'off'}, 'reload': True}, 'api_server': {'enabled': True, 'listen_ip_address': '127.0.0.1', 'listen_port': 8080, 'verbosity': 'error', 'enable_openapi': True, 'jwt_secret_key': '95ee043b07757de739cacb5efffd52089f9a5959f1375b2375128263b6f76432', 'ws_token': '6PY_SjxK-LK-NP1bkg3IYIxA7dnrkBOnlA', 'CORS_origins': [], 'username': 'mupol313', 'password': 'Yamaha.123'}, 'internals': {'process_throttle_secs': 5, 'heartbeat_interval': 10, 'sd_notify': True}, 'config_files': ['c:\\\\bager\\\\user_data\\\\config.json']}, 'verbosity': 0, 'runmode': <RunMode.OTHER: 'other'>, 'strategy': None, 'user_data_dir': WindowsPath('c:/bager/user_data'), 'datadir': WindowsPath('c:/bager/user_data/data/bybit'), 'exportfilename': WindowsPath('c:/bager/user_data/backtest_results'), 'print_colorized': True, 'candle_type_def': <CandleType.FUTURES: 'futures'>, 'pairs': ['KAVA/USDT:USDT']}\n"
     ]
    }
   ],
   "source": [
    "import os\n",
    "from pathlib import Path\n",
    "from freqtrade.data.history import load_pair_history\n",
    "from freqtrade.enums import CandleType\n",
    "from freqtrade.configuration import Configuration\n",
    "from pathlib import Path\n",
    "import numpy as np\n",
    "import pandas as pd\n",
    "import finplot as fplt\n",
    "\n",
    "project_root = \"c:\\\\bager\\\\\"\n",
    "os.chdir(project_root)\n",
    "\n",
    "config = Path(\"c:\\\\bager\\\\user_data\\\\config.json\")\n",
    "\n",
    "config = Configuration.from_files([config])\n",
    "print(config)\n",
    "config[\"timeframe\"] = \"5m\"\n",
    "\n",
    "data_location = config[\"datadir\"]\n",
    "pair = \"KAVA/USDT:USDT\"\n",
    "\n"
   ]
  },
  {
   "cell_type": "markdown",
   "metadata": {},
   "source": [
    "### Configure Freqtrade environment"
   ]
  },
  {
   "cell_type": "code",
   "execution_count": 2,
   "metadata": {},
   "outputs": [
    {
     "data": {
      "text/html": [
       "<div>\n",
       "<style scoped>\n",
       "    .dataframe tbody tr th:only-of-type {\n",
       "        vertical-align: middle;\n",
       "    }\n",
       "\n",
       "    .dataframe tbody tr th {\n",
       "        vertical-align: top;\n",
       "    }\n",
       "\n",
       "    .dataframe thead th {\n",
       "        text-align: right;\n",
       "    }\n",
       "</style>\n",
       "<table border=\"1\" class=\"dataframe\">\n",
       "  <thead>\n",
       "    <tr style=\"text-align: right;\">\n",
       "      <th></th>\n",
       "      <th>date</th>\n",
       "      <th>open</th>\n",
       "      <th>high</th>\n",
       "      <th>low</th>\n",
       "      <th>close</th>\n",
       "      <th>volume</th>\n",
       "    </tr>\n",
       "  </thead>\n",
       "  <tbody>\n",
       "    <tr>\n",
       "      <th>0</th>\n",
       "      <td>2024-05-19 00:00:00+00:00</td>\n",
       "      <td>0.6756</td>\n",
       "      <td>0.6756</td>\n",
       "      <td>0.6734</td>\n",
       "      <td>0.6734</td>\n",
       "      <td>8849.7</td>\n",
       "    </tr>\n",
       "    <tr>\n",
       "      <th>1</th>\n",
       "      <td>2024-05-19 00:05:00+00:00</td>\n",
       "      <td>0.6734</td>\n",
       "      <td>0.6734</td>\n",
       "      <td>0.6726</td>\n",
       "      <td>0.6730</td>\n",
       "      <td>9887.0</td>\n",
       "    </tr>\n",
       "    <tr>\n",
       "      <th>2</th>\n",
       "      <td>2024-05-19 00:10:00+00:00</td>\n",
       "      <td>0.6730</td>\n",
       "      <td>0.6748</td>\n",
       "      <td>0.6730</td>\n",
       "      <td>0.6748</td>\n",
       "      <td>3586.2</td>\n",
       "    </tr>\n",
       "    <tr>\n",
       "      <th>3</th>\n",
       "      <td>2024-05-19 00:15:00+00:00</td>\n",
       "      <td>0.6748</td>\n",
       "      <td>0.6753</td>\n",
       "      <td>0.6736</td>\n",
       "      <td>0.6736</td>\n",
       "      <td>4121.9</td>\n",
       "    </tr>\n",
       "    <tr>\n",
       "      <th>4</th>\n",
       "      <td>2024-05-19 00:20:00+00:00</td>\n",
       "      <td>0.6736</td>\n",
       "      <td>0.6743</td>\n",
       "      <td>0.6736</td>\n",
       "      <td>0.6743</td>\n",
       "      <td>2634.5</td>\n",
       "    </tr>\n",
       "  </tbody>\n",
       "</table>\n",
       "</div>"
      ],
      "text/plain": [
       "                       date    open    high     low   close  volume\n",
       "0 2024-05-19 00:00:00+00:00  0.6756  0.6756  0.6734  0.6734  8849.7\n",
       "1 2024-05-19 00:05:00+00:00  0.6734  0.6734  0.6726  0.6730  9887.0\n",
       "2 2024-05-19 00:10:00+00:00  0.6730  0.6748  0.6730  0.6748  3586.2\n",
       "3 2024-05-19 00:15:00+00:00  0.6748  0.6753  0.6736  0.6736  4121.9\n",
       "4 2024-05-19 00:20:00+00:00  0.6736  0.6743  0.6736  0.6743  2634.5"
      ]
     },
     "execution_count": 2,
     "metadata": {},
     "output_type": "execute_result"
    }
   ],
   "source": [
    "\n",
    "\n",
    "candles = load_pair_history(datadir=data_location,timeframe=config[\"timeframe\"],pair=pair,data_format = \"json\",candle_type=CandleType.FUTURES)\n",
    "\n",
    "candles.head(5)"
   ]
  },
  {
   "cell_type": "markdown",
   "metadata": {},
   "source": [
    "## Load and run strategy\n",
    "* Rerun each time the strategy file is changed"
   ]
  },
  {
   "cell_type": "code",
   "execution_count": 3,
   "metadata": {},
   "outputs": [],
   "source": [
    "from freqtrade.resolvers import StrategyResolver\n",
    "from freqtrade.data.dataprovider import DataProvider\n",
    "sp = \"c:\\\\bager\\\\user_data\\\\strategies\\\\\"\n",
    "config[\"strategy_path\"] = Path(sp)\n",
    "config[\"strategy\"] = \"el\"\n",
    "strategy = StrategyResolver.load_strategy(config)\n",
    "strategy.dp = DataProvider(config, None, None)\n",
    "strategy.ft_bot_start()\n",
    "\n",
    "df1 = strategy.analyze_ticker(candles, {'pair': pair})\n",
    "df = df1.tail(500)"
   ]
  },
  {
   "cell_type": "code",
   "execution_count": 4,
   "metadata": {},
   "outputs": [
    {
     "data": {
      "text/html": [
       "<div>\n",
       "<style scoped>\n",
       "    .dataframe tbody tr th:only-of-type {\n",
       "        vertical-align: middle;\n",
       "    }\n",
       "\n",
       "    .dataframe tbody tr th {\n",
       "        vertical-align: top;\n",
       "    }\n",
       "\n",
       "    .dataframe thead th {\n",
       "        text-align: right;\n",
       "    }\n",
       "</style>\n",
       "<table border=\"1\" class=\"dataframe\">\n",
       "  <thead>\n",
       "    <tr style=\"text-align: right;\">\n",
       "      <th></th>\n",
       "      <th>date</th>\n",
       "      <th>open</th>\n",
       "      <th>high</th>\n",
       "      <th>low</th>\n",
       "      <th>close</th>\n",
       "      <th>volume</th>\n",
       "      <th>ma_buy_21</th>\n",
       "      <th>ma_sell_11</th>\n",
       "      <th>EWO</th>\n",
       "      <th>rsi</th>\n",
       "      <th>enter_tag</th>\n",
       "      <th>enter_long</th>\n",
       "      <th>enter_short</th>\n",
       "      <th>exit_tag</th>\n",
       "      <th>exit_long</th>\n",
       "    </tr>\n",
       "  </thead>\n",
       "  <tbody>\n",
       "    <tr>\n",
       "      <th>0</th>\n",
       "      <td>2024-06-18 21:15:00+00:00</td>\n",
       "      <td>0.4433</td>\n",
       "      <td>0.4444</td>\n",
       "      <td>0.4430</td>\n",
       "      <td>0.4442</td>\n",
       "      <td>48534.6</td>\n",
       "      <td>0.440116</td>\n",
       "      <td>0.441645</td>\n",
       "      <td>-2.121905</td>\n",
       "      <td>68.992842</td>\n",
       "      <td></td>\n",
       "      <td>0.0</td>\n",
       "      <td>1.0</td>\n",
       "      <td></td>\n",
       "      <td>1.0</td>\n",
       "    </tr>\n",
       "    <tr>\n",
       "      <th>1</th>\n",
       "      <td>2024-06-18 21:20:00+00:00</td>\n",
       "      <td>0.4442</td>\n",
       "      <td>0.4443</td>\n",
       "      <td>0.4428</td>\n",
       "      <td>0.4436</td>\n",
       "      <td>16474.2</td>\n",
       "      <td>0.440432</td>\n",
       "      <td>0.441971</td>\n",
       "      <td>-2.108882</td>\n",
       "      <td>65.729021</td>\n",
       "      <td></td>\n",
       "      <td>0.0</td>\n",
       "      <td>1.0</td>\n",
       "      <td></td>\n",
       "      <td>1.0</td>\n",
       "    </tr>\n",
       "    <tr>\n",
       "      <th>2</th>\n",
       "      <td>2024-06-18 21:25:00+00:00</td>\n",
       "      <td>0.4436</td>\n",
       "      <td>0.4443</td>\n",
       "      <td>0.4426</td>\n",
       "      <td>0.4433</td>\n",
       "      <td>62547.8</td>\n",
       "      <td>0.440693</td>\n",
       "      <td>0.442192</td>\n",
       "      <td>-2.095533</td>\n",
       "      <td>64.096308</td>\n",
       "      <td></td>\n",
       "      <td>0.0</td>\n",
       "      <td>1.0</td>\n",
       "      <td></td>\n",
       "      <td>1.0</td>\n",
       "    </tr>\n",
       "    <tr>\n",
       "      <th>3</th>\n",
       "      <td>2024-06-18 21:30:00+00:00</td>\n",
       "      <td>0.4433</td>\n",
       "      <td>0.4468</td>\n",
       "      <td>0.4428</td>\n",
       "      <td>0.4459</td>\n",
       "      <td>19462.4</td>\n",
       "      <td>0.441166</td>\n",
       "      <td>0.442810</td>\n",
       "      <td>-2.054048</td>\n",
       "      <td>70.853623</td>\n",
       "      <td></td>\n",
       "      <td>0.0</td>\n",
       "      <td>1.0</td>\n",
       "      <td></td>\n",
       "      <td>1.0</td>\n",
       "    </tr>\n",
       "    <tr>\n",
       "      <th>4</th>\n",
       "      <td>2024-06-18 21:35:00+00:00</td>\n",
       "      <td>0.4459</td>\n",
       "      <td>0.4468</td>\n",
       "      <td>0.4456</td>\n",
       "      <td>0.4468</td>\n",
       "      <td>8341.3</td>\n",
       "      <td>0.441679</td>\n",
       "      <td>0.443475</td>\n",
       "      <td>-2.008057</td>\n",
       "      <td>72.764465</td>\n",
       "      <td></td>\n",
       "      <td>0.0</td>\n",
       "      <td>1.0</td>\n",
       "      <td></td>\n",
       "      <td>1.0</td>\n",
       "    </tr>\n",
       "    <tr>\n",
       "      <th>...</th>\n",
       "      <td>...</td>\n",
       "      <td>...</td>\n",
       "      <td>...</td>\n",
       "      <td>...</td>\n",
       "      <td>...</td>\n",
       "      <td>...</td>\n",
       "      <td>...</td>\n",
       "      <td>...</td>\n",
       "      <td>...</td>\n",
       "      <td>...</td>\n",
       "      <td>...</td>\n",
       "      <td>...</td>\n",
       "      <td>...</td>\n",
       "      <td>...</td>\n",
       "      <td>...</td>\n",
       "    </tr>\n",
       "    <tr>\n",
       "      <th>495</th>\n",
       "      <td>2024-06-20 14:30:00+00:00</td>\n",
       "      <td>0.4644</td>\n",
       "      <td>0.4646</td>\n",
       "      <td>0.4628</td>\n",
       "      <td>0.4629</td>\n",
       "      <td>13921.7</td>\n",
       "      <td>0.466138</td>\n",
       "      <td>0.463934</td>\n",
       "      <td>0.989415</td>\n",
       "      <td>36.464146</td>\n",
       "      <td></td>\n",
       "      <td>0.0</td>\n",
       "      <td>1.0</td>\n",
       "      <td></td>\n",
       "      <td>1.0</td>\n",
       "    </tr>\n",
       "    <tr>\n",
       "      <th>496</th>\n",
       "      <td>2024-06-20 14:35:00+00:00</td>\n",
       "      <td>0.4629</td>\n",
       "      <td>0.4640</td>\n",
       "      <td>0.4620</td>\n",
       "      <td>0.4631</td>\n",
       "      <td>6201.9</td>\n",
       "      <td>0.465862</td>\n",
       "      <td>0.463795</td>\n",
       "      <td>0.952062</td>\n",
       "      <td>37.256159</td>\n",
       "      <td></td>\n",
       "      <td>0.0</td>\n",
       "      <td>1.0</td>\n",
       "      <td></td>\n",
       "      <td>1.0</td>\n",
       "    </tr>\n",
       "    <tr>\n",
       "      <th>497</th>\n",
       "      <td>2024-06-20 14:40:00+00:00</td>\n",
       "      <td>0.4631</td>\n",
       "      <td>0.4640</td>\n",
       "      <td>0.4628</td>\n",
       "      <td>0.4629</td>\n",
       "      <td>5177.8</td>\n",
       "      <td>0.465593</td>\n",
       "      <td>0.463646</td>\n",
       "      <td>0.905163</td>\n",
       "      <td>36.762639</td>\n",
       "      <td></td>\n",
       "      <td>0.0</td>\n",
       "      <td>1.0</td>\n",
       "      <td></td>\n",
       "      <td>1.0</td>\n",
       "    </tr>\n",
       "    <tr>\n",
       "      <th>498</th>\n",
       "      <td>2024-06-20 14:45:00+00:00</td>\n",
       "      <td>0.4629</td>\n",
       "      <td>0.4632</td>\n",
       "      <td>0.4615</td>\n",
       "      <td>0.4632</td>\n",
       "      <td>8693.5</td>\n",
       "      <td>0.465375</td>\n",
       "      <td>0.463572</td>\n",
       "      <td>0.854922</td>\n",
       "      <td>38.087472</td>\n",
       "      <td></td>\n",
       "      <td>0.0</td>\n",
       "      <td>1.0</td>\n",
       "      <td></td>\n",
       "      <td>1.0</td>\n",
       "    </tr>\n",
       "    <tr>\n",
       "      <th>499</th>\n",
       "      <td>2024-06-20 14:50:00+00:00</td>\n",
       "      <td>0.4632</td>\n",
       "      <td>0.4638</td>\n",
       "      <td>0.4629</td>\n",
       "      <td>0.4634</td>\n",
       "      <td>11187.2</td>\n",
       "      <td>0.465195</td>\n",
       "      <td>0.463543</td>\n",
       "      <td>0.806862</td>\n",
       "      <td>39.004908</td>\n",
       "      <td></td>\n",
       "      <td>0.0</td>\n",
       "      <td>1.0</td>\n",
       "      <td></td>\n",
       "      <td>1.0</td>\n",
       "    </tr>\n",
       "  </tbody>\n",
       "</table>\n",
       "<p>500 rows × 15 columns</p>\n",
       "</div>"
      ],
      "text/plain": [
       "                         date    open    high     low   close   volume  \\\n",
       "0   2024-06-18 21:15:00+00:00  0.4433  0.4444  0.4430  0.4442  48534.6   \n",
       "1   2024-06-18 21:20:00+00:00  0.4442  0.4443  0.4428  0.4436  16474.2   \n",
       "2   2024-06-18 21:25:00+00:00  0.4436  0.4443  0.4426  0.4433  62547.8   \n",
       "3   2024-06-18 21:30:00+00:00  0.4433  0.4468  0.4428  0.4459  19462.4   \n",
       "4   2024-06-18 21:35:00+00:00  0.4459  0.4468  0.4456  0.4468   8341.3   \n",
       "..                        ...     ...     ...     ...     ...      ...   \n",
       "495 2024-06-20 14:30:00+00:00  0.4644  0.4646  0.4628  0.4629  13921.7   \n",
       "496 2024-06-20 14:35:00+00:00  0.4629  0.4640  0.4620  0.4631   6201.9   \n",
       "497 2024-06-20 14:40:00+00:00  0.4631  0.4640  0.4628  0.4629   5177.8   \n",
       "498 2024-06-20 14:45:00+00:00  0.4629  0.4632  0.4615  0.4632   8693.5   \n",
       "499 2024-06-20 14:50:00+00:00  0.4632  0.4638  0.4629  0.4634  11187.2   \n",
       "\n",
       "     ma_buy_21  ma_sell_11       EWO        rsi enter_tag  enter_long  \\\n",
       "0     0.440116    0.441645 -2.121905  68.992842                   0.0   \n",
       "1     0.440432    0.441971 -2.108882  65.729021                   0.0   \n",
       "2     0.440693    0.442192 -2.095533  64.096308                   0.0   \n",
       "3     0.441166    0.442810 -2.054048  70.853623                   0.0   \n",
       "4     0.441679    0.443475 -2.008057  72.764465                   0.0   \n",
       "..         ...         ...       ...        ...       ...         ...   \n",
       "495   0.466138    0.463934  0.989415  36.464146                   0.0   \n",
       "496   0.465862    0.463795  0.952062  37.256159                   0.0   \n",
       "497   0.465593    0.463646  0.905163  36.762639                   0.0   \n",
       "498   0.465375    0.463572  0.854922  38.087472                   0.0   \n",
       "499   0.465195    0.463543  0.806862  39.004908                   0.0   \n",
       "\n",
       "     enter_short exit_tag  exit_long  \n",
       "0            1.0                 1.0  \n",
       "1            1.0                 1.0  \n",
       "2            1.0                 1.0  \n",
       "3            1.0                 1.0  \n",
       "4            1.0                 1.0  \n",
       "..           ...      ...        ...  \n",
       "495          1.0                 1.0  \n",
       "496          1.0                 1.0  \n",
       "497          1.0                 1.0  \n",
       "498          1.0                 1.0  \n",
       "499          1.0                 1.0  \n",
       "\n",
       "[500 rows x 15 columns]"
      ]
     },
     "execution_count": 4,
     "metadata": {},
     "output_type": "execute_result"
    }
   ],
   "source": [
    "df = df.fillna(0)\n",
    "df = df.reset_index(drop= True)\n",
    "df"
   ]
  },
  {
   "cell_type": "code",
   "execution_count": 5,
   "metadata": {},
   "outputs": [
    {
     "data": {
      "text/plain": [
       "0.0"
      ]
     },
     "execution_count": 5,
     "metadata": {},
     "output_type": "execute_result"
    }
   ],
   "source": [
    "df['enter_long'].sum()"
   ]
  },
  {
   "cell_type": "code",
   "execution_count": null,
   "metadata": {},
   "outputs": [],
   "source": [
    "ax = fplt.\n",
    "df['qqel'].plot()"
   ]
  },
  {
   "cell_type": "code",
   "execution_count": null,
   "metadata": {},
   "outputs": [],
   "source": [
    "previous_qqel = 0\n",
    "previous_qqes = 0\n",
    "for index , row in df.iterrows():\n",
    "    if row['qqel'] != 0 and previous_qqel == 0:\n",
    "        print('qqel=' ,index , row['qqel'])\n",
    "    if row['qqes'] != 0 and previous_qqes == 0:\n",
    "        print('qqes=' , index, row['qqes'])\n",
    "    previous_qqel = row['qqel']\n",
    "    previous_qqes = row['qqes']"
   ]
  },
  {
   "cell_type": "code",
   "execution_count": null,
   "metadata": {},
   "outputs": [],
   "source": [
    "df['qqel'].plot()\n",
    "fplt.show()\n"
   ]
  },
  {
   "cell_type": "code",
   "execution_count": null,
   "metadata": {},
   "outputs": [],
   "source": [
    "df['qqel'].plot(figsize=(20,8))"
   ]
  },
  {
   "cell_type": "markdown",
   "metadata": {},
   "source": [
    "### Display the trade details\n",
    "\n",
    "* Note that using `data.head()` would also work, however most indicators have some \"startup\" data at the top of the dataframe.\n",
    "* Some possible problems\n",
    "    * Columns with NaN values at the end of the dataframe\n",
    "    * Columns used in `crossed*()` functions with completely different units\n",
    "* Comparison with full backtest\n",
    "    * having 200 buy signals as output for one pair from `analyze_ticker()` does not necessarily mean that 200 trades will be made during backtesting.\n",
    "    * Assuming you use only one condition such as, `df['rsi'] < 30` as buy condition, this will generate multiple \"buy\" signals for each pair in sequence (until rsi returns > 29). The bot will only buy on the first of these signals (and also only if a trade-slot (\"max_open_trades\") is still available), or on one of the middle signals, as soon as a \"slot\" becomes available.  \n"
   ]
  },
  {
   "cell_type": "code",
   "execution_count": null,
   "metadata": {},
   "outputs": [],
   "source": [
    "# Report results\n",
    "print(f\"Generated {df['enter_long'].sum()} entry signals\")\n",
    "data = df.set_index('date', drop=False)\n",
    "data.tail()"
   ]
  },
  {
   "cell_type": "markdown",
   "metadata": {},
   "source": [
    "## Load existing objects into a Jupyter notebook\n",
    "\n",
    "The following cells assume that you have already generated data using the cli.  \n",
    "They will allow you to drill deeper into your results, and perform analysis which otherwise would make the output very difficult to digest due to information overload."
   ]
  },
  {
   "cell_type": "markdown",
   "metadata": {},
   "source": [
    "### Load backtest results to pandas dataframe\n",
    "\n",
    "Analyze a trades dataframe (also used below for plotting)"
   ]
  },
  {
   "cell_type": "code",
   "execution_count": null,
   "metadata": {},
   "outputs": [],
   "source": [
    "from freqtrade.data.btanalysis import load_backtest_data, load_backtest_stats\n",
    "\n",
    "# if backtest_dir points to a directory, it'll automatically load the last backtest file.\n",
    "backtest_dir = config[\"user_data_dir\"] / \"backtest_results\"\n",
    "# backtest_dir can also point to a specific file\n",
    "# backtest_dir = config[\"user_data_dir\"] / \"backtest_results/backtest-result-2020-07-01_20-04-22.json\""
   ]
  },
  {
   "cell_type": "code",
   "execution_count": null,
   "metadata": {},
   "outputs": [],
   "source": [
    "# You can get the full backtest statistics by using the following command.\n",
    "# This contains all information used to generate the backtest result.\n",
    "stats = load_backtest_stats(backtest_dir)\n",
    "\n",
    "strategy = 'SampleStrategy'\n",
    "# All statistics are available per strategy, so if `--strategy-list` was used during backtest, this will be reflected here as well.\n",
    "# Example usages:\n",
    "print(stats['strategy'][strategy]['results_per_pair'])\n",
    "# Get pairlist used for this backtest\n",
    "print(stats['strategy'][strategy]['pairlist'])\n",
    "# Get market change (average change of all pairs from start to end of the backtest period)\n",
    "print(stats['strategy'][strategy]['market_change'])\n",
    "# Maximum drawdown ()\n",
    "print(stats['strategy'][strategy]['max_drawdown'])\n",
    "# Maximum drawdown start and end\n",
    "print(stats['strategy'][strategy]['drawdown_start'])\n",
    "print(stats['strategy'][strategy]['drawdown_end'])\n",
    "\n",
    "\n",
    "# Get strategy comparison (only relevant if multiple strategies were compared)\n",
    "print(stats['strategy_comparison'])\n"
   ]
  },
  {
   "cell_type": "code",
   "execution_count": null,
   "metadata": {},
   "outputs": [],
   "source": [
    "# Load backtested trades as dataframe\n",
    "trades = load_backtest_data(backtest_dir)\n",
    "\n",
    "# Show value-counts per pair\n",
    "trades.groupby(\"pair\")[\"exit_reason\"].value_counts()"
   ]
  },
  {
   "cell_type": "markdown",
   "metadata": {},
   "source": [
    "## Plotting daily profit / equity line"
   ]
  },
  {
   "cell_type": "code",
   "execution_count": null,
   "metadata": {},
   "outputs": [],
   "source": [
    "# Plotting equity line (starting with 0 on day 1 and adding daily profit for each backtested day)\n",
    "\n",
    "from freqtrade.configuration import Configuration\n",
    "from freqtrade.data.btanalysis import load_backtest_stats\n",
    "import plotly.express as px\n",
    "import pandas as pd\n",
    "\n",
    "# strategy = 'SampleStrategy'\n",
    "# config = Configuration.from_files([\"user_data/config.json\"])\n",
    "# backtest_dir = config[\"user_data_dir\"] / \"backtest_results\"\n",
    "\n",
    "stats = load_backtest_stats(backtest_dir)\n",
    "strategy_stats = stats['strategy'][strategy]\n",
    "\n",
    "df = pd.DataFrame(columns=['dates','equity'], data=strategy_stats['daily_profit'])\n",
    "df['equity_daily'] = df['equity'].cumsum()\n",
    "\n",
    "fig = px.line(df, x=\"dates\", y=\"equity_daily\")\n",
    "fig.show()\n"
   ]
  },
  {
   "cell_type": "markdown",
   "metadata": {},
   "source": [
    "### Load live trading results into a pandas dataframe\n",
    "\n",
    "In case you did already some trading and want to analyze your performance"
   ]
  },
  {
   "cell_type": "code",
   "execution_count": null,
   "metadata": {},
   "outputs": [],
   "source": [
    "from freqtrade.data.btanalysis import load_trades_from_db\n",
    "\n",
    "# Fetch trades from database\n",
    "trades = load_trades_from_db(\"sqlite:///tradesv3.sqlite\")\n",
    "\n",
    "# Display results\n",
    "trades.groupby(\"pair\")[\"exit_reason\"].value_counts()"
   ]
  },
  {
   "cell_type": "markdown",
   "metadata": {},
   "source": [
    "## Analyze the loaded trades for trade parallelism\n",
    "This can be useful to find the best `max_open_trades` parameter, when used with backtesting in conjunction with `--disable-max-market-positions`.\n",
    "\n",
    "`analyze_trade_parallelism()` returns a timeseries dataframe with an \"open_trades\" column, specifying the number of open trades for each candle."
   ]
  },
  {
   "cell_type": "code",
   "execution_count": null,
   "metadata": {},
   "outputs": [],
   "source": [
    "from freqtrade.data.btanalysis import analyze_trade_parallelism\n",
    "\n",
    "# Analyze the above\n",
    "parallel_trades = analyze_trade_parallelism(trades, '5m')\n",
    "\n",
    "parallel_trades.plot()"
   ]
  },
  {
   "cell_type": "markdown",
   "metadata": {},
   "source": [
    "## Plot results\n",
    "\n",
    "Freqtrade offers interactive plotting capabilities based on plotly."
   ]
  },
  {
   "cell_type": "code",
   "execution_count": null,
   "metadata": {},
   "outputs": [],
   "source": [
    "from freqtrade.plot.plotting import  generate_candlestick_graph\n",
    "# Limit graph period to keep plotly quick and reactive\n",
    "\n",
    "# Filter trades to one pair\n",
    "trades_red = trades.loc[trades['pair'] == pair]\n",
    "\n",
    "data_red = data['2019-06-01':'2019-06-10']\n",
    "# Generate candlestick graph\n",
    "graph = generate_candlestick_graph(pair=pair,\n",
    "                                   data=data_red,\n",
    "                                   trades=trades_red,\n",
    "                                   indicators1=['sma20', 'ema50', 'ema55'],\n",
    "                                   indicators2=['rsi', 'macd', 'macdsignal', 'macdhist']\n",
    "                                  )\n",
    "\n",
    "\n"
   ]
  },
  {
   "cell_type": "code",
   "execution_count": null,
   "metadata": {},
   "outputs": [],
   "source": [
    "# Show graph inline\n",
    "# graph.show()\n",
    "\n",
    "# Render graph in a separate window\n",
    "graph.show(renderer=\"browser\")\n"
   ]
  },
  {
   "cell_type": "markdown",
   "metadata": {},
   "source": [
    "## Plot average profit per trade as distribution graph"
   ]
  },
  {
   "cell_type": "code",
   "execution_count": null,
   "metadata": {},
   "outputs": [],
   "source": [
    "import plotly.figure_factory as ff\n",
    "\n",
    "hist_data = [trades.profit_ratio]\n",
    "group_labels = ['profit_ratio']  # name of the dataset\n",
    "\n",
    "fig = ff.create_distplot(hist_data, group_labels, bin_size=0.01)\n",
    "fig.show()\n"
   ]
  },
  {
   "cell_type": "markdown",
   "metadata": {},
   "source": [
    "Feel free to submit an issue or Pull Request enhancing this document if you would like to share ideas on how to best analyze the data."
   ]
  }
 ],
 "metadata": {
  "file_extension": ".py",
  "kernelspec": {
   "display_name": "Python 3.9.7 64-bit",
   "language": "python",
   "name": "python3"
  },
  "language_info": {
   "codemirror_mode": {
    "name": "ipython",
    "version": 3
   },
   "file_extension": ".py",
   "mimetype": "text/x-python",
   "name": "python",
   "nbconvert_exporter": "python",
   "pygments_lexer": "ipython3",
   "version": "3.12.3"
  },
  "mimetype": "text/x-python",
  "name": "python",
  "npconvert_exporter": "python",
  "pygments_lexer": "ipython3",
  "toc": {
   "base_numbering": 1,
   "nav_menu": {},
   "number_sections": true,
   "sideBar": true,
   "skip_h1_title": false,
   "title_cell": "Table of Contents",
   "title_sidebar": "Contents",
   "toc_cell": false,
   "toc_position": {},
   "toc_section_display": true,
   "toc_window_display": false
  },
  "varInspector": {
   "cols": {
    "lenName": 16,
    "lenType": 16,
    "lenVar": 40
   },
   "kernels_config": {
    "python": {
     "delete_cmd_postfix": "",
     "delete_cmd_prefix": "del ",
     "library": "var_list.py",
     "varRefreshCmd": "print(var_dic_list())"
    },
    "r": {
     "delete_cmd_postfix": ") ",
     "delete_cmd_prefix": "rm(",
     "library": "var_list.r",
     "varRefreshCmd": "cat(var_dic_list()) "
    }
   },
   "types_to_exclude": [
    "module",
    "function",
    "builtin_function_or_method",
    "instance",
    "_Feature"
   ],
   "window_display": false
  },
  "version": 3,
  "vscode": {
   "interpreter": {
    "hash": "675f32a300d6d26767470181ad0b11dd4676bcce7ed1dd2ffe2fbc370c95fc7c"
   }
  }
 },
 "nbformat": 4,
 "nbformat_minor": 4
}
